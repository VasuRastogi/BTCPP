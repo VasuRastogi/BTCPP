{
 "cells": [
  {
   "cell_type": "code",
   "execution_count": 52,
   "metadata": {
    "collapsed": true,
    "ExecuteTime": {
     "start_time": "2023-06-04T14:28:35.931883Z",
     "end_time": "2023-06-04T14:28:40.482717Z"
    }
   },
   "outputs": [],
   "source": [
    "# importing libraries\n",
    "import numpy as np\n",
    "import pandas as pd\n",
    "import matplotlib.pyplot as plt\n",
    "import missingno as msno\n",
    "from sklearn.neighbors import KNeighborsRegressor\n",
    "from sklearn.model_selection import train_test_split"
   ]
  },
  {
   "cell_type": "code",
   "execution_count": 53,
   "outputs": [],
   "source": [
    "# import dataset\n",
    "df = pd.read_csv(\"D:\\Documents\\ML_PROJECTS\\Crypto_price\\BTC-INR.csv\")"
   ],
   "metadata": {
    "collapsed": false,
    "ExecuteTime": {
     "start_time": "2023-06-04T14:28:35.931883Z",
     "end_time": "2023-06-04T14:28:40.494719Z"
    }
   }
  },
  {
   "cell_type": "code",
   "execution_count": 54,
   "outputs": [],
   "source": [
    "# check for missing values\n",
    "df.isnull().sum()"
   ],
   "metadata": {
    "collapsed": false,
    "ExecuteTime": {
     "start_time": "2023-06-04T14:28:35.931883Z",
     "end_time": "2023-06-04T14:28:40.496718Z"
    }
   }
  },
  {
   "cell_type": "code",
   "execution_count": 55,
   "outputs": [],
   "source": [
    "msno.matrix(df)"
   ],
   "metadata": {
    "collapsed": false,
    "ExecuteTime": {
     "start_time": "2023-06-04T14:28:35.931883Z",
     "end_time": "2023-06-04T14:28:40.497720Z"
    }
   }
  },
  {
   "cell_type": "code",
   "execution_count": 56,
   "outputs": [],
   "source": [
    "# plotting closing prices of bitcoin from 2014-2023\n",
    "plt.figure(figsize=(18,8))\n",
    "plt.plot(df['Close'], label='Close Price history')"
   ],
   "metadata": {
    "collapsed": false,
    "ExecuteTime": {
     "start_time": "2023-06-04T14:28:35.931883Z",
     "end_time": "2023-06-04T14:28:41.024372Z"
    }
   }
  },
  {
   "cell_type": "markdown",
   "source": [
    "Splitting the dataset"
   ],
   "metadata": {
    "collapsed": false
   }
  },
  {
   "cell_type": "code",
   "execution_count": 57,
   "outputs": [],
   "source": [
    "df.head()"
   ],
   "metadata": {
    "collapsed": false,
    "ExecuteTime": {
     "start_time": "2023-06-04T14:28:40.208707Z",
     "end_time": "2023-06-04T14:28:41.075376Z"
    }
   }
  },
  {
   "cell_type": "code",
   "execution_count": 58,
   "outputs": [],
   "source": [
    "df['Date'] = pd.to_datetime(df.Date, format='%Y-%m-%d')\n",
    "X = df.iloc[:, [0, 1]]\n",
    "y = df.Close"
   ],
   "metadata": {
    "collapsed": false,
    "ExecuteTime": {
     "start_time": "2023-06-04T14:28:40.209708Z",
     "end_time": "2023-06-04T14:28:41.253777Z"
    }
   }
  },
  {
   "cell_type": "code",
   "execution_count": 59,
   "outputs": [],
   "source": [
    "X_train, X_test, y_train, y_test = train_test_split(X, y, random_state=1, test_size=0.5)\n",
    "X_train.tail()"
   ],
   "metadata": {
    "collapsed": false,
    "ExecuteTime": {
     "start_time": "2023-06-04T14:28:40.209708Z",
     "end_time": "2023-06-04T14:28:41.438601Z"
    }
   }
  },
  {
   "cell_type": "code",
   "execution_count": 59,
   "outputs": [],
   "source": [],
   "metadata": {
    "collapsed": false,
    "ExecuteTime": {
     "start_time": "2023-06-04T14:28:40.209708Z",
     "end_time": "2023-06-04T14:28:41.454002Z"
    }
   }
  }
 ],
 "metadata": {
  "kernelspec": {
   "display_name": "Python 3",
   "language": "python",
   "name": "python3"
  },
  "language_info": {
   "codemirror_mode": {
    "name": "ipython",
    "version": 2
   },
   "file_extension": ".py",
   "mimetype": "text/x-python",
   "name": "python",
   "nbconvert_exporter": "python",
   "pygments_lexer": "ipython2",
   "version": "2.7.6"
  }
 },
 "nbformat": 4,
 "nbformat_minor": 0
}
